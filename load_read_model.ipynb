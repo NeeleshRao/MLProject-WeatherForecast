{
 "cells": [
  {
   "cell_type": "code",
   "execution_count": 1,
   "id": "8fdbbcba-36aa-4260-b170-17bcc542c526",
   "metadata": {},
   "outputs": [],
   "source": [
    "import pickle\n",
    "import pandas as pd\n",
    "import matplotlib.pyplot as plt\n",
    "from sklearn.model_selection import train_test_split, validation_curve\n",
    "from sklearn.ensemble import RandomForestClassifier\n",
    "from sklearn.metrics import accuracy_score\n",
    "from sklearn.preprocessing import LabelEncoder\n",
    "from datetime import datetime\n",
    "from sklearn.model_selection import GridSearchCV\n",
    "import numpy as np"
   ]
  },
  {
   "cell_type": "code",
   "execution_count": 2,
   "id": "34bad71f-f7d4-4a00-abdd-3fe8992fd41f",
   "metadata": {},
   "outputs": [],
   "source": [
    "filename = \"correct_model_all_params.pickle\"\n",
    "load_model = pickle.load(open(filename, 'rb'))"
   ]
  },
  {
   "cell_type": "code",
   "execution_count": 7,
   "id": "9bbcf9b6-3e32-4f31-a542-df28124a4c58",
   "metadata": {},
   "outputs": [],
   "source": [
    "data = pd.read_csv(\"weather_data.csv\")\n",
    "data = data.drop([\"Evaporation\", \"Sunshine\", \"Cloud9am\", \"Cloud3pm\"], axis=1)\n",
    "data[\"RainTomorrow\"] = data[\"RainTomorrow\"].replace(to_replace=\"NA\", value=\"\")\n",
    "data[\"year\"] = data[\"Date\"].apply(lambda x: x[0])\n",
    "data[\"month\"] = data[\"Date\"].apply(lambda x: x[1])\n",
    "\n",
    "data[\"MinTemp\"] = data[\"MinTemp\"].fillna(method=\"ffill\")\n",
    "data[\"MaxTemp\"] = data[\"MaxTemp\"].fillna(method=\"ffill\")\n",
    "data[\"Rainfall\"] = data[\"Rainfall\"].fillna(method=\"ffill\")\n",
    "data[\"WindGustSpeed\"] = data[\"WindGustSpeed\"].fillna(method=\"ffill\")\n",
    "data[\"WindSpeed9am\"] = data[\"WindSpeed9am\"].fillna(method=\"ffill\")\n",
    "data[\"WindSpeed3pm\"] = data[\"WindSpeed3pm\"].fillna(method=\"ffill\")\n",
    "data[\"Humidity9am\"] = data[\"Humidity9am\"].fillna(method=\"ffill\")\n",
    "data[\"Humidity3pm\"] = data[\"Humidity3pm\"].fillna(method=\"ffill\")\n",
    "data[\"Pressure9am\"] = data[\"Pressure9am\"].fillna(method=\"ffill\")\n",
    "data[\"Pressure3pm\"] = data[\"Pressure3pm\"].fillna(method=\"ffill\")\n",
    "data[\"Temp9am\"] = data[\"Temp9am\"].fillna(method=\"ffill\")\n",
    "data[\"Temp3pm\"] = data[\"Temp3pm\"].fillna(method=\"ffill\")\n",
    "data[\"RainTomorrow\"] = data[\"RainTomorrow\"].fillna(method=\"ffill\")\n",
    "data = data.drop(\"Date\", axis=1)\n",
    "\n",
    "l = [\"Location\", \"WindGustDir\", \"WindDir9am\", \"WindDir3pm\", \"RainToday\", \"RainTomorrow\", \"year\", \"month\"]\n",
    "le = LabelEncoder()\n",
    "\n",
    "data[l] = data[l].apply(le.fit_transform)\n",
    "\n",
    "\n"
   ]
  },
  {
   "cell_type": "code",
   "execution_count": 8,
   "id": "c0d42879-4b44-4cc7-80bd-e6f45fadf146",
   "metadata": {},
   "outputs": [],
   "source": [
    "Y = data[\"RainTomorrow\"]\n",
    "X = data.drop(\"RainTomorrow\", axis=1)\n",
    "\n",
    "X_train, X_test, y_train, y_test = train_test_split(X, Y, test_size=0.23)"
   ]
  },
  {
   "cell_type": "code",
   "execution_count": 9,
   "id": "13a03847-1ed1-4415-8c0c-f94bfdcf7e78",
   "metadata": {},
   "outputs": [
    {
     "name": "stdout",
     "output_type": "stream",
     "text": [
      "Testing accuracy is  94.58692013390723 %\n"
     ]
    }
   ],
   "source": [
    "out = load_model.predict(X_test)\n",
    "print(\"Testing accuracy is \", accuracy_score(y_test, out)*100, \"%\")"
   ]
  },
  {
   "cell_type": "code",
   "execution_count": null,
   "id": "e344eb81-7fd1-4856-95e1-f2b38fbd8a15",
   "metadata": {},
   "outputs": [],
   "source": []
  }
 ],
 "metadata": {
  "kernelspec": {
   "display_name": "Python 3 (ipykernel)",
   "language": "python",
   "name": "python3"
  },
  "language_info": {
   "codemirror_mode": {
    "name": "ipython",
    "version": 3
   },
   "file_extension": ".py",
   "mimetype": "text/x-python",
   "name": "python",
   "nbconvert_exporter": "python",
   "pygments_lexer": "ipython3",
   "version": "3.8.16"
  }
 },
 "nbformat": 4,
 "nbformat_minor": 5
}
