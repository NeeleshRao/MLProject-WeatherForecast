{
 "cells": [
  {
   "cell_type": "code",
   "execution_count": 24,
   "id": "379d30a3-50bd-426b-84c7-c11589d2993a",
   "metadata": {},
   "outputs": [],
   "source": [
    "import pandas as pd\n",
    "import matplotlib.pyplot as plt\n",
    "from sklearn.model_selection import train_test_split, validation_curve\n",
    "from sklearn.ensemble import RandomForestClassifier\n",
    "from sklearn.metrics import accuracy_score\n",
    "from sklearn.preprocessing import LabelEncoder\n",
    "from datetime import datetime\n",
    "from sklearn.model_selection import GridSearchCV\n",
    "import numpy as np\n",
    "\n"
   ]
  },
  {
   "cell_type": "code",
   "execution_count": 56,
   "id": "fd1a44b6-6bd3-41cf-8656-28d26e60582a",
   "metadata": {},
   "outputs": [],
   "source": [
    "# Dataset Preparation\n",
    "\n",
    "data = pd.read_csv(\"weather_data.csv\")\n",
    "data = data.drop([\"Evaporation\", \"Sunshine\", \"Cloud9am\", \"Cloud3pm\"], axis=1)\n",
    "data[\"RainTomorrow\"] = data[\"RainTomorrow\"].replace(to_replace=\"NA\", value=\"\")\n",
    "data[\"year\"] = data[\"Date\"].apply(lambda x: x[0])\n",
    "data[\"month\"] = data[\"Date\"].apply(lambda x: x[1])\n",
    "\n",
    "data[\"MinTemp\"] = data[\"MinTemp\"].fillna(method=\"ffill\")\n",
    "data[\"MaxTemp\"] = data[\"MaxTemp\"].fillna(method=\"ffill\")\n",
    "data[\"Rainfall\"] = data[\"Rainfall\"].fillna(method=\"ffill\")\n",
    "data[\"WindGustSpeed\"] = data[\"WindGustSpeed\"].fillna(method=\"ffill\")\n",
    "data[\"WindSpeed9am\"] = data[\"WindSpeed9am\"].fillna(method=\"ffill\")\n",
    "data[\"WindSpeed3pm\"] = data[\"WindSpeed3pm\"].fillna(method=\"ffill\")\n",
    "data[\"Humidity9am\"] = data[\"Humidity9am\"].fillna(method=\"ffill\")\n",
    "data[\"Humidity3pm\"] = data[\"Humidity3pm\"].fillna(method=\"ffill\")\n",
    "data[\"Pressure9am\"] = data[\"Pressure9am\"].fillna(method=\"ffill\")\n",
    "data[\"Pressure3pm\"] = data[\"Pressure3pm\"].fillna(method=\"ffill\")\n",
    "data[\"Temp9am\"] = data[\"Temp9am\"].fillna(method=\"ffill\")\n",
    "data[\"Temp3pm\"] = data[\"Temp3pm\"].fillna(method=\"ffill\")\n",
    "data[\"RainTomorrow\"] = data[\"RainTomorrow\"].fillna(method=\"ffill\")\n",
    "data = data.drop(\"Date\", axis=1)\n",
    "\n",
    "l = [\"Location\", \"WindGustDir\", \"WindDir9am\", \"WindDir3pm\", \"RainToday\", \"RainTomorrow\", \"year\", \"month\"]\n",
    "le = LabelEncoder()\n",
    "\n",
    "data[l] = data[l].apply(le.fit_transform)\n"
   ]
  },
  {
   "cell_type": "code",
   "execution_count": 57,
   "id": "e812f7b2-2fb8-40ee-9c51-365a3148905c",
   "metadata": {},
   "outputs": [
    {
     "name": "stdout",
     "output_type": "stream",
     "text": [
      "<class 'pandas.core.frame.DataFrame'>\n",
      "RangeIndex: 145460 entries, 0 to 145459\n",
      "Data columns (total 20 columns):\n",
      " #   Column         Non-Null Count   Dtype  \n",
      "---  ------         --------------   -----  \n",
      " 0   Location       145460 non-null  int32  \n",
      " 1   MinTemp        145460 non-null  float64\n",
      " 2   MaxTemp        145460 non-null  float64\n",
      " 3   Rainfall       145460 non-null  float64\n",
      " 4   WindGustDir    145460 non-null  int32  \n",
      " 5   WindGustSpeed  145460 non-null  float64\n",
      " 6   WindDir9am     145460 non-null  int32  \n",
      " 7   WindDir3pm     145460 non-null  int32  \n",
      " 8   WindSpeed9am   145460 non-null  float64\n",
      " 9   WindSpeed3pm   145460 non-null  float64\n",
      " 10  Humidity9am    145460 non-null  float64\n",
      " 11  Humidity3pm    145460 non-null  float64\n",
      " 12  Pressure9am    145460 non-null  float64\n",
      " 13  Pressure3pm    145460 non-null  float64\n",
      " 14  Temp9am        145460 non-null  float64\n",
      " 15  Temp3pm        145460 non-null  float64\n",
      " 16  RainToday      145460 non-null  int32  \n",
      " 17  RainTomorrow   145460 non-null  int32  \n",
      " 18  year           145460 non-null  int32  \n",
      " 19  month          145460 non-null  int32  \n",
      "dtypes: float64(12), int32(8)\n",
      "memory usage: 17.8 MB\n",
      "None\n"
     ]
    }
   ],
   "source": [
    "# df['Date'] = pd.to_datetime(df['Date'])\n",
    "# the = data.Date[0]\n",
    "# l = the.split(\"-\")\n",
    "# print(l)\n",
    "\n",
    "# data[\"the_date\"], data[\"year\"], data[\"month\"] = data[\"Date\"].apply(lambda x: x.split(\"-\"))\n",
    "# print(type(data[\"Date\"][0][0]))\n",
    "\n",
    "print(data.info())\n",
    "\n",
    "\n",
    "\n",
    "\n",
    "\n"
   ]
  },
  {
   "cell_type": "code",
   "execution_count": 38,
   "id": "f6b6ec0e-288d-4b97-af35-3cbe77584351",
   "metadata": {},
   "outputs": [
    {
     "name": "stdout",
     "output_type": "stream",
     "text": [
      "<class 'pandas.core.frame.DataFrame'>\n",
      "RangeIndex: 145460 entries, 0 to 145459\n",
      "Data columns (total 20 columns):\n",
      " #   Column         Non-Null Count   Dtype  \n",
      "---  ------         --------------   -----  \n",
      " 0   Location       145460 non-null  int32  \n",
      " 1   MinTemp        145460 non-null  float64\n",
      " 2   MaxTemp        145460 non-null  float64\n",
      " 3   Rainfall       145460 non-null  float64\n",
      " 4   WindGustDir    145460 non-null  int32  \n",
      " 5   WindGustSpeed  145460 non-null  float64\n",
      " 6   WindDir9am     145460 non-null  int32  \n",
      " 7   WindDir3pm     145460 non-null  int32  \n",
      " 8   WindSpeed9am   145460 non-null  float64\n",
      " 9   WindSpeed3pm   145460 non-null  float64\n",
      " 10  Humidity9am    145460 non-null  float64\n",
      " 11  Humidity3pm    145460 non-null  float64\n",
      " 12  Pressure9am    145460 non-null  float64\n",
      " 13  Pressure3pm    145460 non-null  float64\n",
      " 14  Temp9am        145460 non-null  float64\n",
      " 15  Temp3pm        145460 non-null  float64\n",
      " 16  RainToday      145460 non-null  int32  \n",
      " 17  RainTomorrow   145460 non-null  int32  \n",
      " 18  year           145460 non-null  object \n",
      " 19  month          145460 non-null  object \n",
      "dtypes: float64(12), int32(6), object(2)\n",
      "memory usage: 18.9+ MB\n",
      "None\n",
      "0         0\n",
      "1         0\n",
      "2         0\n",
      "3         0\n",
      "4         0\n",
      "         ..\n",
      "145455    0\n",
      "145456    0\n",
      "145457    0\n",
      "145458    0\n",
      "145459    2\n",
      "Name: RainTomorrow, Length: 145460, dtype: int32\n"
     ]
    }
   ],
   "source": [
    "data[\"MinTemp\"] = data[\"MinTemp\"].fillna(method=\"ffill\")\n",
    "data[\"MaxTemp\"] = data[\"MaxTemp\"].fillna(method=\"ffill\")\n",
    "data[\"Rainfall\"] = data[\"Rainfall\"].fillna(method=\"ffill\")\n",
    "data[\"WindGustSpeed\"] = data[\"WindGustSpeed\"].fillna(method=\"ffill\")\n",
    "data[\"WindSpeed9am\"] = data[\"WindSpeed9am\"].fillna(method=\"ffill\")\n",
    "data[\"WindSpeed3pm\"] = data[\"WindSpeed3pm\"].fillna(method=\"ffill\")\n",
    "data[\"Humidity9am\"] = data[\"Humidity9am\"].fillna(method=\"ffill\")\n",
    "data[\"Humidity3pm\"] = data[\"Humidity3pm\"].fillna(method=\"ffill\")\n",
    "data[\"Pressure9am\"] = data[\"Pressure9am\"].fillna(method=\"ffill\")\n",
    "data[\"Pressure3pm\"] = data[\"Pressure3pm\"].fillna(method=\"ffill\")\n",
    "data[\"Temp9am\"] = data[\"Temp9am\"].fillna(method=\"ffill\")\n",
    "data[\"Temp3pm\"] = data[\"Temp3pm\"].fillna(method=\"ffill\")\n",
    "# data[\"RainTomorrow\"] = data[\"RainTomorrow\"].fillna(method=\"ffill\")\n",
    "\n",
    "data = data.drop(\"Date\", axis=1)\n",
    "\n",
    "print(data.info())\n",
    "print(data[\"RainTomorrow\"])"
   ]
  },
  {
   "cell_type": "code",
   "execution_count": 5,
   "id": "481bda5d-f254-4af7-ab55-e44cff509c07",
   "metadata": {},
   "outputs": [
    {
     "name": "stdout",
     "output_type": "stream",
     "text": [
      "<class 'pandas.core.frame.DataFrame'>\n",
      "RangeIndex: 145460 entries, 0 to 145459\n",
      "Data columns (total 20 columns):\n",
      " #   Column         Non-Null Count   Dtype  \n",
      "---  ------         --------------   -----  \n",
      " 0   Location       145460 non-null  int32  \n",
      " 1   MinTemp        145460 non-null  float64\n",
      " 2   MaxTemp        145460 non-null  float64\n",
      " 3   Rainfall       145460 non-null  float64\n",
      " 4   WindGustDir    145460 non-null  int32  \n",
      " 5   WindGustSpeed  145460 non-null  float64\n",
      " 6   WindDir9am     145460 non-null  int32  \n",
      " 7   WindDir3pm     145460 non-null  int32  \n",
      " 8   WindSpeed9am   145460 non-null  float64\n",
      " 9   WindSpeed3pm   145460 non-null  float64\n",
      " 10  Humidity9am    145460 non-null  float64\n",
      " 11  Humidity3pm    145460 non-null  float64\n",
      " 12  Pressure9am    145460 non-null  float64\n",
      " 13  Pressure3pm    145460 non-null  float64\n",
      " 14  Temp9am        145460 non-null  float64\n",
      " 15  Temp3pm        145460 non-null  float64\n",
      " 16  RainToday      145460 non-null  int32  \n",
      " 17  RainTomorrow   145460 non-null  int32  \n",
      " 18  year           145460 non-null  int32  \n",
      " 19  month          145460 non-null  int32  \n",
      "dtypes: float64(12), int32(8)\n",
      "memory usage: 17.8 MB\n",
      "None\n"
     ]
    }
   ],
   "source": [
    "le = LabelEncoder()\n",
    "\n",
    "l = [\"year\", \"month\"]\n",
    "data[l] = data[l].apply(le.fit_transform)\n",
    "print(data.info())"
   ]
  },
  {
   "cell_type": "code",
   "execution_count": 48,
   "id": "44af8205-913e-45e6-ad8b-deb4d96085fd",
   "metadata": {},
   "outputs": [],
   "source": [
    "Y = data[\"RainTomorrow\"]\n",
    "X = data.drop(\"RainTomorrow\", axis=1)"
   ]
  },
  {
   "cell_type": "code",
   "execution_count": 49,
   "id": "4592b738-3a81-4ea1-816c-6444caeb9155",
   "metadata": {},
   "outputs": [],
   "source": [
    "X_train, X_test, y_train, y_test = train_test_split(X, Y, test_size=0.23)"
   ]
  },
  {
   "cell_type": "code",
   "execution_count": 50,
   "id": "cecd6846-ce85-48e0-96e4-344df9b70a24",
   "metadata": {},
   "outputs": [
    {
     "data": {
      "text/html": [
       "<style>#sk-container-id-4 {color: black;background-color: white;}#sk-container-id-4 pre{padding: 0;}#sk-container-id-4 div.sk-toggleable {background-color: white;}#sk-container-id-4 label.sk-toggleable__label {cursor: pointer;display: block;width: 100%;margin-bottom: 0;padding: 0.3em;box-sizing: border-box;text-align: center;}#sk-container-id-4 label.sk-toggleable__label-arrow:before {content: \"▸\";float: left;margin-right: 0.25em;color: #696969;}#sk-container-id-4 label.sk-toggleable__label-arrow:hover:before {color: black;}#sk-container-id-4 div.sk-estimator:hover label.sk-toggleable__label-arrow:before {color: black;}#sk-container-id-4 div.sk-toggleable__content {max-height: 0;max-width: 0;overflow: hidden;text-align: left;background-color: #f0f8ff;}#sk-container-id-4 div.sk-toggleable__content pre {margin: 0.2em;color: black;border-radius: 0.25em;background-color: #f0f8ff;}#sk-container-id-4 input.sk-toggleable__control:checked~div.sk-toggleable__content {max-height: 200px;max-width: 100%;overflow: auto;}#sk-container-id-4 input.sk-toggleable__control:checked~label.sk-toggleable__label-arrow:before {content: \"▾\";}#sk-container-id-4 div.sk-estimator input.sk-toggleable__control:checked~label.sk-toggleable__label {background-color: #d4ebff;}#sk-container-id-4 div.sk-label input.sk-toggleable__control:checked~label.sk-toggleable__label {background-color: #d4ebff;}#sk-container-id-4 input.sk-hidden--visually {border: 0;clip: rect(1px 1px 1px 1px);clip: rect(1px, 1px, 1px, 1px);height: 1px;margin: -1px;overflow: hidden;padding: 0;position: absolute;width: 1px;}#sk-container-id-4 div.sk-estimator {font-family: monospace;background-color: #f0f8ff;border: 1px dotted black;border-radius: 0.25em;box-sizing: border-box;margin-bottom: 0.5em;}#sk-container-id-4 div.sk-estimator:hover {background-color: #d4ebff;}#sk-container-id-4 div.sk-parallel-item::after {content: \"\";width: 100%;border-bottom: 1px solid gray;flex-grow: 1;}#sk-container-id-4 div.sk-label:hover label.sk-toggleable__label {background-color: #d4ebff;}#sk-container-id-4 div.sk-serial::before {content: \"\";position: absolute;border-left: 1px solid gray;box-sizing: border-box;top: 0;bottom: 0;left: 50%;z-index: 0;}#sk-container-id-4 div.sk-serial {display: flex;flex-direction: column;align-items: center;background-color: white;padding-right: 0.2em;padding-left: 0.2em;position: relative;}#sk-container-id-4 div.sk-item {position: relative;z-index: 1;}#sk-container-id-4 div.sk-parallel {display: flex;align-items: stretch;justify-content: center;background-color: white;position: relative;}#sk-container-id-4 div.sk-item::before, #sk-container-id-4 div.sk-parallel-item::before {content: \"\";position: absolute;border-left: 1px solid gray;box-sizing: border-box;top: 0;bottom: 0;left: 50%;z-index: -1;}#sk-container-id-4 div.sk-parallel-item {display: flex;flex-direction: column;z-index: 1;position: relative;background-color: white;}#sk-container-id-4 div.sk-parallel-item:first-child::after {align-self: flex-end;width: 50%;}#sk-container-id-4 div.sk-parallel-item:last-child::after {align-self: flex-start;width: 50%;}#sk-container-id-4 div.sk-parallel-item:only-child::after {width: 0;}#sk-container-id-4 div.sk-dashed-wrapped {border: 1px dashed gray;margin: 0 0.4em 0.5em 0.4em;box-sizing: border-box;padding-bottom: 0.4em;background-color: white;}#sk-container-id-4 div.sk-label label {font-family: monospace;font-weight: bold;display: inline-block;line-height: 1.2em;}#sk-container-id-4 div.sk-label-container {text-align: center;}#sk-container-id-4 div.sk-container {/* jupyter's `normalize.less` sets `[hidden] { display: none; }` but bootstrap.min.css set `[hidden] { display: none !important; }` so we also need the `!important` here to be able to override the default hidden behavior on the sphinx rendered scikit-learn.org. See: https://github.com/scikit-learn/scikit-learn/issues/21755 */display: inline-block !important;position: relative;}#sk-container-id-4 div.sk-text-repr-fallback {display: none;}</style><div id=\"sk-container-id-4\" class=\"sk-top-container\"><div class=\"sk-text-repr-fallback\"><pre>RandomForestClassifier(max_depth=30, max_features=&#x27;log2&#x27;, n_estimators=800)</pre><b>In a Jupyter environment, please rerun this cell to show the HTML representation or trust the notebook. <br />On GitHub, the HTML representation is unable to render, please try loading this page with nbviewer.org.</b></div><div class=\"sk-container\" hidden><div class=\"sk-item\"><div class=\"sk-estimator sk-toggleable\"><input class=\"sk-toggleable__control sk-hidden--visually\" id=\"sk-estimator-id-4\" type=\"checkbox\" checked><label for=\"sk-estimator-id-4\" class=\"sk-toggleable__label sk-toggleable__label-arrow\">RandomForestClassifier</label><div class=\"sk-toggleable__content\"><pre>RandomForestClassifier(max_depth=30, max_features=&#x27;log2&#x27;, n_estimators=800)</pre></div></div></div></div></div>"
      ],
      "text/plain": [
       "RandomForestClassifier(max_depth=30, max_features='log2', n_estimators=800)"
      ]
     },
     "execution_count": 50,
     "metadata": {},
     "output_type": "execute_result"
    }
   ],
   "source": [
    "rf = RandomForestClassifier(n_estimators=800, max_features=\"log2\", max_depth=30, min_samples_split=2, min_samples_leaf=1, )\n",
    "rf.fit(X_train, y_train)"
   ]
  },
  {
   "cell_type": "code",
   "execution_count": 51,
   "id": "732b1aea-e8ba-4d5d-8993-4b8440fa9ca9",
   "metadata": {},
   "outputs": [
    {
     "name": "stdout",
     "output_type": "stream",
     "text": [
      "The training accuracy is  99.99732152423128 %\n"
     ]
    }
   ],
   "source": [
    "print(\"The training accuracy is \", rf.score(X_train, y_train)*100, \"%\")"
   ]
  },
  {
   "cell_type": "code",
   "execution_count": 58,
   "id": "c77830ff-8ad4-4200-bc5f-f09a24b6a3d6",
   "metadata": {},
   "outputs": [
    {
     "name": "stdout",
     "output_type": "stream",
     "text": [
      "Testing accuracy is  85.41666666666666 %\n"
     ]
    }
   ],
   "source": [
    "out = rf.predict(X_test)\n",
    "print(\"Testing accuracy is \", accuracy_score(y_test, out)*100, \"%\")"
   ]
  },
  {
   "cell_type": "code",
   "execution_count": 54,
   "id": "4896889e-c139-4c02-9e82-393d3bd24df3",
   "metadata": {},
   "outputs": [],
   "source": [
    "import pickle\n",
    "filename = \"correct_model_all_params.pickle\"\n",
    "pickle.dump(rf, open(filename, \"wb\"))"
   ]
  },
  {
   "cell_type": "code",
   "execution_count": 19,
   "id": "bfa8bb20-d923-475d-b3bb-68288b957767",
   "metadata": {},
   "outputs": [
    {
     "ename": "AttributeError",
     "evalue": "'GridSearchCV' object has no attribute 'best_params_'",
     "output_type": "error",
     "traceback": [
      "\u001b[1;31m---------------------------------------------------------------------------\u001b[0m",
      "\u001b[1;31mAttributeError\u001b[0m                            Traceback (most recent call last)",
      "Cell \u001b[1;32mIn[19], line 6\u001b[0m\n\u001b[0;32m      1\u001b[0m param_grid \u001b[38;5;241m=\u001b[39m {\n\u001b[0;32m      2\u001b[0m   \n\u001b[0;32m      3\u001b[0m     \u001b[38;5;124m'\u001b[39m\u001b[38;5;124mn_estimators\u001b[39m\u001b[38;5;124m'\u001b[39m: [\u001b[38;5;241m100\u001b[39m, \u001b[38;5;241m200\u001b[39m, \u001b[38;5;241m300\u001b[39m, \u001b[38;5;241m1000\u001b[39m]\n\u001b[0;32m      4\u001b[0m }\n\u001b[0;32m      5\u001b[0m grid_search \u001b[38;5;241m=\u001b[39m GridSearchCV(estimator \u001b[38;5;241m=\u001b[39m rf , param_grid \u001b[38;5;241m=\u001b[39m param_grid, cv \u001b[38;5;241m=\u001b[39m \u001b[38;5;241m3\u001b[39m, n_jobs \u001b[38;5;241m=\u001b[39m \u001b[38;5;241m-\u001b[39m\u001b[38;5;241m1\u001b[39m)\n\u001b[1;32m----> 6\u001b[0m \u001b[38;5;28mprint\u001b[39m(\u001b[43mgrid_search\u001b[49m\u001b[38;5;241;43m.\u001b[39;49m\u001b[43mbest_params_\u001b[49m)\n",
      "\u001b[1;31mAttributeError\u001b[0m: 'GridSearchCV' object has no attribute 'best_params_'"
     ]
    }
   ],
   "source": [
    "param_grid = {\n",
    "  \n",
    "    'n_estimators': [100, 200, 300, 1000]\n",
    "}\n",
    "grid_search = GridSearchCV(estimator = rf , param_grid = param_grid, cv = 3, n_jobs = -1)\n"
   ]
  },
  {
   "cell_type": "code",
   "execution_count": null,
   "id": "12881725-cb1a-4c85-b3e3-28698f6ff9f2",
   "metadata": {},
   "outputs": [],
   "source": [
    "# This is the gridsearch can't run on this laptop\n",
    "n_estimators = [100, 300, 500, 800, 1200]\n",
    "max_depth = [5, 8, 15, 25, 30]\n",
    "min_samples_split = [2, 5, 10, 15, 100]\n",
    "min_samples_leaf = [1, 2, 5, 10] \n",
    "\n",
    "hyperF = dict(n_estimators = n_estimators, max_depth = max_depth,  \n",
    "              min_samples_split = min_samples_split, \n",
    "             min_samples_leaf = min_samples_leaf)\n",
    "\n",
    "gridF = GridSearchCV(rf, hyperF, cv = 3, verbose = 1, n_jobs = -1)\n",
    "bestF = gridF.fit(X_train, y_train)"
   ]
  },
  {
   "cell_type": "code",
   "execution_count": 28,
   "id": "593c1c99-107b-4b7e-9be9-441494892ce2",
   "metadata": {},
   "outputs": [],
   "source": [
    "n_estimators = [100, 300, 500, 800, 1200]\n",
    "max_depth = [5, 8, 15, 25, 30]\n",
    "min_samples_split = [2, 5, 10, 15, 100]\n",
    "min_samples_leaf = [1, 2, 5, 10]\n",
    "train_scoreNum, test_scoreNum = validation_curve(\n",
    "                                RandomForestClassifier(),\n",
    "                                X = X_train, y = y_train, \n",
    "                                param_name = 'min_samples_leaf', \n",
    "                                param_range = min_samples_leaf, cv = 3)"
   ]
  },
  {
   "cell_type": "code",
   "execution_count": 29,
   "id": "6fc8c294-0fd3-442e-b2d6-3fbc19f60552",
   "metadata": {},
   "outputs": [
    {
     "data": {
      "text/plain": [
       "[<matplotlib.lines.Line2D at 0x1d2066fb190>]"
      ]
     },
     "execution_count": 29,
     "metadata": {},
     "output_type": "execute_result"
    },
    {
     "data": {
      "image/png": "[encoded data removed]",
      "text/plain": [
       "<Figure size 640x480 with 1 Axes>"
      ]
     },
     "metadata": {},
     "output_type": "display_data"
    }
   ],
   "source": [
    "mean_train_score = np.mean(train_scoreNum, axis=1)\n",
    "plt.plot(min_samples_leaf, mean_train_score,\n",
    "         label=\"Training Score\", color='b')"
   ]
  },
  {
   "cell_type": "code",
   "execution_count": 12,
   "id": "d350b48a-4e77-42b0-82f4-b58663caed6c",
   "metadata": {},
   "outputs": [
    {
     "data": {
      "text/html": [
       "<style>#sk-container-id-3 {color: black;background-color: white;}#sk-container-id-3 pre{padding: 0;}#sk-container-id-3 div.sk-toggleable {background-color: white;}#sk-container-id-3 label.sk-toggleable__label {cursor: pointer;display: block;width: 100%;margin-bottom: 0;padding: 0.3em;box-sizing: border-box;text-align: center;}#sk-container-id-3 label.sk-toggleable__label-arrow:before {content: \"▸\";float: left;margin-right: 0.25em;color: #696969;}#sk-container-id-3 label.sk-toggleable__label-arrow:hover:before {color: black;}#sk-container-id-3 div.sk-estimator:hover label.sk-toggleable__label-arrow:before {color: black;}#sk-container-id-3 div.sk-toggleable__content {max-height: 0;max-width: 0;overflow: hidden;text-align: left;background-color: #f0f8ff;}#sk-container-id-3 div.sk-toggleable__content pre {margin: 0.2em;color: black;border-radius: 0.25em;background-color: #f0f8ff;}#sk-container-id-3 input.sk-toggleable__control:checked~div.sk-toggleable__content {max-height: 200px;max-width: 100%;overflow: auto;}#sk-container-id-3 input.sk-toggleable__control:checked~label.sk-toggleable__label-arrow:before {content: \"▾\";}#sk-container-id-3 div.sk-estimator input.sk-toggleable__control:checked~label.sk-toggleable__label {background-color: #d4ebff;}#sk-container-id-3 div.sk-label input.sk-toggleable__control:checked~label.sk-toggleable__label {background-color: #d4ebff;}#sk-container-id-3 input.sk-hidden--visually {border: 0;clip: rect(1px 1px 1px 1px);clip: rect(1px, 1px, 1px, 1px);height: 1px;margin: -1px;overflow: hidden;padding: 0;position: absolute;width: 1px;}#sk-container-id-3 div.sk-estimator {font-family: monospace;background-color: #f0f8ff;border: 1px dotted black;border-radius: 0.25em;box-sizing: border-box;margin-bottom: 0.5em;}#sk-container-id-3 div.sk-estimator:hover {background-color: #d4ebff;}#sk-container-id-3 div.sk-parallel-item::after {content: \"\";width: 100%;border-bottom: 1px solid gray;flex-grow: 1;}#sk-container-id-3 div.sk-label:hover label.sk-toggleable__label {background-color: #d4ebff;}#sk-container-id-3 div.sk-serial::before {content: \"\";position: absolute;border-left: 1px solid gray;box-sizing: border-box;top: 0;bottom: 0;left: 50%;z-index: 0;}#sk-container-id-3 div.sk-serial {display: flex;flex-direction: column;align-items: center;background-color: white;padding-right: 0.2em;padding-left: 0.2em;position: relative;}#sk-container-id-3 div.sk-item {position: relative;z-index: 1;}#sk-container-id-3 div.sk-parallel {display: flex;align-items: stretch;justify-content: center;background-color: white;position: relative;}#sk-container-id-3 div.sk-item::before, #sk-container-id-3 div.sk-parallel-item::before {content: \"\";position: absolute;border-left: 1px solid gray;box-sizing: border-box;top: 0;bottom: 0;left: 50%;z-index: -1;}#sk-container-id-3 div.sk-parallel-item {display: flex;flex-direction: column;z-index: 1;position: relative;background-color: white;}#sk-container-id-3 div.sk-parallel-item:first-child::after {align-self: flex-end;width: 50%;}#sk-container-id-3 div.sk-parallel-item:last-child::after {align-self: flex-start;width: 50%;}#sk-container-id-3 div.sk-parallel-item:only-child::after {width: 0;}#sk-container-id-3 div.sk-dashed-wrapped {border: 1px dashed gray;margin: 0 0.4em 0.5em 0.4em;box-sizing: border-box;padding-bottom: 0.4em;background-color: white;}#sk-container-id-3 div.sk-label label {font-family: monospace;font-weight: bold;display: inline-block;line-height: 1.2em;}#sk-container-id-3 div.sk-label-container {text-align: center;}#sk-container-id-3 div.sk-container {/* jupyter's `normalize.less` sets `[hidden] { display: none; }` but bootstrap.min.css set `[hidden] { display: none !important; }` so we also need the `!important` here to be able to override the default hidden behavior on the sphinx rendered scikit-learn.org. See: https://github.com/scikit-learn/scikit-learn/issues/21755 */display: inline-block !important;position: relative;}#sk-container-id-3 div.sk-text-repr-fallback {display: none;}</style><div id=\"sk-container-id-3\" class=\"sk-top-container\"><div class=\"sk-text-repr-fallback\"><pre>RandomForestClassifier()</pre><b>In a Jupyter environment, please rerun this cell to show the HTML representation or trust the notebook. <br />On GitHub, the HTML representation is unable to render, please try loading this page with nbviewer.org.</b></div><div class=\"sk-container\" hidden><div class=\"sk-item\"><div class=\"sk-estimator sk-toggleable\"><input class=\"sk-toggleable__control sk-hidden--visually\" id=\"sk-estimator-id-3\" type=\"checkbox\" checked><label for=\"sk-estimator-id-3\" class=\"sk-toggleable__label sk-toggleable__label-arrow\">RandomForestClassifier</label><div class=\"sk-toggleable__content\"><pre>RandomForestClassifier()</pre></div></div></div></div></div>"
      ],
      "text/plain": [
       "RandomForestClassifier()"
      ]
     },
     "execution_count": 12,
     "metadata": {},
     "output_type": "execute_result"
    }
   ],
   "source": [
    "# Model with no hyper params\n",
    "rf1 = RandomForestClassifier()\n",
    "rf1.fit(X_train, y_train)"
   ]
  },
  {
   "cell_type": "code",
   "execution_count": 13,
   "id": "46e3ebd1-081d-4647-ad39-bb814848c01f",
   "metadata": {},
   "outputs": [
    {
     "name": "stdout",
     "output_type": "stream",
     "text": [
      "The training accuracy is  99.99375022320632 %\n",
      "Testing accuracy is  84.41535150645623 %\n"
     ]
    }
   ],
   "source": [
    "print(\"The training accuracy is \", rf.score(X_train, y_train)*100, \"%\")\n",
    "out = rf.predict(X_test)\n",
    "print(\"Testing accuracy is \", accuracy_score(y_test, out)*100, \"%\")"
   ]
  },
  {
   "cell_type": "code",
   "execution_count": 61,
   "id": "da9046b2-b9d2-4be6-8f77-71e8ca020da8",
   "metadata": {},
   "outputs": [
    {
     "name": "stdout",
     "output_type": "stream",
     "text": [
      "Accuracy: 0.8541666666666666\n",
      "Precision: 0.7586481113320079\n",
      "Recall: 0.5100922336586018\n"
     ]
    },
    {
     "data": {
      "text/plain": [
       "<sklearn.metrics._plot.confusion_matrix.ConfusionMatrixDisplay at 0x1aa3d462b80>"
      ]
     },
     "execution_count": 61,
     "metadata": {},
     "output_type": "execute_result"
    },
    {
     "data": {
      "image/png": "[encoded data removed]",
      "text/plain": [
       "<Figure size 640x480 with 2 Axes>"
      ]
     },
     "metadata": {},
     "output_type": "display_data"
    }
   ],
   "source": [
    "# Confusion matrix\n",
    "import matplotlib.pyplot as plt\n",
    "import numpy\n",
    "from sklearn.metrics import accuracy_score, confusion_matrix, precision_score, recall_score, ConfusionMatrixDisplay\n",
    "\n",
    "accuracy = accuracy_score(y_test, out)\n",
    "precision = precision_score(y_test, out)\n",
    "recall = recall_score(y_test, out)\n",
    "\n",
    "print(\"Accuracy:\", accuracy)\n",
    "print(\"Precision:\", precision)\n",
    "print(\"Recall:\", recall)\n",
    "\n",
    "confusion_matrix = metrics.confusion_matrix(y_test, out)\n",
    "ConfusionMatrixDisplay(confusion_matrix=confusion_matrix, display_labels = [\"Will Not Rain\", \"Will Rain\"]).plot()\n",
    "# cm_display = metrics.ConfusionMatrixDisplay(confusion_matrix = confusion_matrix, display_labels = [False, True])\n",
    "\n",
    "# cm_display.plot()\n",
    "# plt.show()"
   ]
  },
  {
   "cell_type": "code",
   "execution_count": null,
   "id": "54f4e494-d07b-4de8-a417-b81b2490aaba",
   "metadata": {},
   "outputs": [],
   "source": []
  }
 ],
 "metadata": {
  "kernelspec": {
   "display_name": "Python 3 (ipykernel)",
   "language": "python",
   "name": "python3"
  },
  "language_info": {
   "codemirror_mode": {
    "name": "ipython",
    "version": 3
   },
   "file_extension": ".py",
   "mimetype": "text/x-python",
   "name": "python",
   "nbconvert_exporter": "python",
   "pygments_lexer": "ipython3",
   "version": "3.8.16"
  }
 },
 "nbformat": 4,
 "nbformat_minor": 5
}
